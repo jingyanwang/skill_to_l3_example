{
 "cells": [
  {
   "cell_type": "code",
   "execution_count": 1,
   "id": "417e67d8",
   "metadata": {},
   "outputs": [],
   "source": [
    "from ipynb.fs.full.skill_to_l3_label_propagation_model import estimator_label_propagation"
   ]
  },
  {
   "cell_type": "code",
   "execution_count": 2,
   "id": "8878aee8",
   "metadata": {},
   "outputs": [],
   "source": [
    "import sklearn\n",
    "\n",
    "from sklearn.metrics import roc_auc_score\n",
    "from sklearn.model_selection import train_test_split"
   ]
  },
  {
   "cell_type": "code",
   "execution_count": 3,
   "id": "ed8ad2da",
   "metadata": {},
   "outputs": [],
   "source": [
    "import numpy as np"
   ]
  },
  {
   "cell_type": "code",
   "execution_count": 4,
   "id": "3263fced",
   "metadata": {},
   "outputs": [],
   "source": [
    "result_folder = \"C:\\\\data\\\\upwork1\\\\skill_to_l3_label_propagation_result\\\\\""
   ]
  },
  {
   "cell_type": "markdown",
   "id": "bbe64a72",
   "metadata": {},
   "source": [
    "# install vectic"
   ]
  },
  {
   "cell_type": "markdown",
   "id": "3ca80696",
   "metadata": {},
   "source": [
    "## Install GCS packages\n",
    "!pip install --q fsspec\n",
    "!pip install --q gcsfs\n",
    "\n",
    "#Install Vectice Python library \n",
    "# In this tutorial we will do code versioning using github, we also support gitlab\n",
    "# and bitbucket: !pip install -q \"vectice[github, gitlab, bitbucket]\"\n",
    "!pip install --q vectice[github]==22.3.5.1"
   ]
  },
  {
   "cell_type": "markdown",
   "id": "1669c995",
   "metadata": {},
   "source": [
    "#Verify if Vectice python library was installed\n",
    "!pip3 show vectice"
   ]
  },
  {
   "cell_type": "markdown",
   "id": "db89439c",
   "metadata": {},
   "source": [
    "# configure vectice"
   ]
  },
  {
   "cell_type": "code",
   "execution_count": 7,
   "id": "191d5fd1",
   "metadata": {},
   "outputs": [],
   "source": [
    "#Import the required packages\n",
    "from vectice import Experiment\n",
    "from vectice.api.json import ModelType\n",
    "from vectice.api.json import JobType\n",
    "from vectice.api.json import JobArtifactType\n",
    "from vectice.api.json import ModelVersionStatus\n",
    "from vectice.api.json import VersionStrategy\n",
    "import logging\n",
    "import os\n",
    "logging.basicConfig(level=logging.INFO)\n",
    "\n",
    "# Specify the API endpoint for Vectice.\n",
    "# You can specify your API endpoint here in the notebook, but we recommand you to add it to a .env file\n",
    "os.environ['VECTICE_API_ENDPOINT']= \"app.vectice.com\"\n",
    "\n",
    "# To use the Vectice Python library, you first need to authenticate your account using an API token.\n",
    "# You can generate an API token from the Vectice UI, by going to the \"API Tokens\" section in the \"My Profile\" section\n",
    "# which is located under your profile picture.\n",
    "# You can specify your API Token here in the notebook, but we recommend you to add it to a .env file\n",
    "os.environ['VECTICE_API_TOKEN'] = \"6nKLaBqd9.3MYZXrl3GAbeNPQmj0Dy26nKLaBqd9O8aWRVvLogwpExBz4J7k\"\n",
    "\n",
    "# Add you project id. The project id can be found in the project settings page in the Vectice UI\n",
    "project_id = 5863"
   ]
  },
  {
   "cell_type": "markdown",
   "id": "dbd887fe",
   "metadata": {},
   "source": [
    "# experiment 1: data"
   ]
  },
  {
   "cell_type": "code",
   "execution_count": 8,
   "id": "068ccf4f",
   "metadata": {},
   "outputs": [
    {
     "name": "stderr",
     "output_type": "stream",
     "text": [
      "INFO:Client:Successfully authenticated. You'll be working on Project: Adaptive Skill Filtering part of Workspace: Sandbox - all\n",
      "WARNING:Vectice:compatibility warning : Please upgrade to the Vectice SDK version 22.4.2 which is more compatible with your Vectice application.\n"
     ]
    },
    {
     "name": "stdout",
     "output_type": "stream",
     "text": [
      "compatibility warning : Please upgrade to the Vectice SDK version 22.4.2 which is more compatible with your Vectice application.\n"
     ]
    },
    {
     "name": "stderr",
     "output_type": "stream",
     "text": [
      "INFO:Project:Job with id: 11172 successfully retrieved.\n"
     ]
    }
   ],
   "source": [
    "skill_to_l3_data_and_model_building = Experiment(\n",
    "    job=\"skill_to_l3_data_and_model_building\", \n",
    "    project=project_id, \n",
    "    job_type=JobType.PREPARATION, auto_code=True)"
   ]
  },
  {
   "cell_type": "code",
   "execution_count": 9,
   "id": "866aaadf",
   "metadata": {},
   "outputs": [
    {
     "name": "stderr",
     "output_type": "stream",
     "text": [
      "INFO:Project:CodeVersion with id: 2878 successfully created in Code vectice-examples.\n"
     ]
    }
   ],
   "source": [
    "input_code = skill_to_l3_data_and_model_building.add_code_version_uri(\n",
    "    git_uri=\"https://github.com/jingyanwang/skill_to_l3_example\",\n",
    "    entrypoint=\"skill_to_l3_label_propagation_vectice.ipynb\") "
   ]
  },
  {
   "cell_type": "code",
   "execution_count": 10,
   "id": "744febb0",
   "metadata": {},
   "outputs": [
    {
     "data": {
      "text/plain": [
       "ArtifactReference(code=None, dataset=skill_to_l3_data, model=None, version_number=None, version_id=None, version_name=None, version_strategy=VersionStrategy.AUTOMATIC, description=None, )"
      ]
     },
     "execution_count": 10,
     "metadata": {},
     "output_type": "execute_result"
    }
   ],
   "source": [
    "skill_to_l3_data_and_model_building.add_dataset_version(\n",
    "    dataset=\"skill_to_l3_data\", \n",
    "    version_strategy=VersionStrategy.AUTOMATIC,\n",
    "    )"
   ]
  },
  {
   "cell_type": "code",
   "execution_count": 11,
   "id": "389eb655",
   "metadata": {},
   "outputs": [
    {
     "name": "stderr",
     "output_type": "stream",
     "text": [
      "INFO:RunApi:Properties with names: ['feature', 'label'] successfully added to Run Run 2022-08-31T12:31:36.953229.\n",
      "INFO:Job:Run with id: 19746 successfully created.\n"
     ]
    },
    {
     "data": {
      "text/plain": [
       "Run(id=19746, job=Job(name=skill_to_l3_data_and_model_building, id=11172, description=None, type=JobType.PREPARATION), name=Run 2022-08-31T12:31:36.953229, system_name=None, start_date=2022-08-31 08:31:42.609066, end_date=None, duration=None, status=RunStatus.STARTED, inputs=[ArtifactReference(code=1244, dataset=None, model=None, version_number=None, version_id=2878, version_name=None, version_strategy=VersionStrategy.MANUAL, description=None, ), ArtifactReference(code=None, dataset=skill_to_l3_data, model=None, version_number=None, version_id=None, version_name=None, version_strategy=VersionStrategy.AUTOMATIC, description=None, )], outputs=[])"
      ]
     },
     "execution_count": 11,
     "metadata": {},
     "output_type": "execute_result"
    }
   ],
   "source": [
    "skill_to_l3_data_and_model_building.start(\n",
    "    run_properties={\n",
    "        \"feature\": \"skill_to_skill_similarity\", \n",
    "        \"label\": \"skill_to_l3\",\n",
    "    },\n",
    "    )"
   ]
  },
  {
   "cell_type": "markdown",
   "id": "93f4fb0e",
   "metadata": {},
   "source": [
    "# load the data and build the class instance"
   ]
  },
  {
   "cell_type": "code",
   "execution_count": 12,
   "id": "b45e8a19",
   "metadata": {},
   "outputs": [],
   "source": [
    "LP_model = estimator_label_propagation(\n",
    "    skill_tag_id_src_npy_file = 'C:\\\\data\\\\upwork1\\\\src.npy',\n",
    "    skill_tag_id_dst_npy_file = 'C:\\\\data\\\\upwork1\\\\dst.npy',\n",
    "    transmission_probability_npy_file = 'C:\\\\data\\\\upwork1\\\\weight.npy',\n",
    "    labeled_skill_l3_id_npy_file = 'C:\\\\data\\\\upwork1\\\\label.npy',\n",
    "    labeled_skill_tag_id_npy_file = 'C:\\\\data\\\\upwork1\\\\node.npy',\n",
    "    num_layers = 2,\n",
    "    alpha = 0.01,\n",
    "    use_gpu = False,\n",
    "    )"
   ]
  },
  {
   "cell_type": "markdown",
   "id": "f5731d06",
   "metadata": {},
   "source": [
    "# split training and test"
   ]
  },
  {
   "cell_type": "code",
   "execution_count": 13,
   "id": "42ebc6e4",
   "metadata": {},
   "outputs": [],
   "source": [
    "training_idx, test_idx = train_test_split(\n",
    "    LP_model.labeled_skill_id, \n",
    "    test_size = 0.1, \n",
    "    shuffle = True,\n",
    "    )"
   ]
  },
  {
   "cell_type": "code",
   "execution_count": 14,
   "id": "52212175",
   "metadata": {},
   "outputs": [],
   "source": [
    "# We create new dataset versions \n",
    "train_ds_version = skill_to_l3_data_and_model_building.add_dataset_version(\n",
    "    dataset=\"skill_to_l3_data_train\", \n",
    "    version_strategy=VersionStrategy.AUTOMATIC,\n",
    "    )\n",
    "\n",
    "test_ds_version = skill_to_l3_data_and_model_building.add_dataset_version(\n",
    "    dataset=\"skill_to_l3_data_test\", \n",
    "    version_strategy=VersionStrategy.AUTOMATIC)\n",
    "\n",
    "# We complete the current experiment's run \n",
    "## The created dataset versions will be automatically attached as outputs of the run\n",
    "skill_to_l3_data_and_model_building.complete()"
   ]
  },
  {
   "cell_type": "markdown",
   "id": "99c9c02e",
   "metadata": {},
   "source": [
    "# run the propagation algorithm"
   ]
  },
  {
   "cell_type": "code",
   "execution_count": 15,
   "id": "f27c2588",
   "metadata": {},
   "outputs": [
    {
     "name": "stderr",
     "output_type": "stream",
     "text": [
      "INFO:Client:Successfully authenticated. You'll be working on Project: Adaptive Skill Filtering part of Workspace: Sandbox - all\n",
      "WARNING:Vectice:compatibility warning : Please upgrade to the Vectice SDK version 22.4.2 which is more compatible with your Vectice application.\n"
     ]
    },
    {
     "name": "stdout",
     "output_type": "stream",
     "text": [
      "compatibility warning : Please upgrade to the Vectice SDK version 22.4.2 which is more compatible with your Vectice application.\n"
     ]
    },
    {
     "name": "stderr",
     "output_type": "stream",
     "text": [
      "INFO:Project:Job with id: 11170 successfully retrieved.\n"
     ]
    }
   ],
   "source": [
    "skill_to_l3_model_training = Experiment(\n",
    "    job=\"skill_to_l3_model_training\", \n",
    "    project=project_id, \n",
    "    job_type=JobType.TRAINING, \n",
    "    auto_code=True)"
   ]
  },
  {
   "cell_type": "code",
   "execution_count": 16,
   "id": "1ea9a073",
   "metadata": {},
   "outputs": [
    {
     "name": "stderr",
     "output_type": "stream",
     "text": [
      "INFO:RunApi:Properties with names: ['alpha', 'num_layers'] successfully added to Run Run 2022-08-31T12:31:58.782674.\n",
      "INFO:Job:Run with id: 19747 successfully created.\n"
     ]
    },
    {
     "data": {
      "text/plain": [
       "Run(id=19747, job=Job(name=skill_to_l3_model_training, id=11170, description=None, type=JobType.TRAINING), name=Run 2022-08-31T12:31:58.782674, system_name=None, start_date=2022-08-31 08:32:04.637647, end_date=None, duration=None, status=RunStatus.STARTED, inputs=[ArtifactReference(code=1244, dataset=None, model=None, version_number=None, version_id=2878, version_name=None, version_strategy=VersionStrategy.MANUAL, description=None, ), ArtifactReference(code=None, dataset=skill_to_l3_data_train, model=None, version_number=None, version_id=None, version_name=None, version_strategy=VersionStrategy.AUTOMATIC, description=None, ), ArtifactReference(code=None, dataset=skill_to_l3_data_test, model=None, version_number=None, version_id=None, version_name=None, version_strategy=VersionStrategy.AUTOMATIC, description=None, )], outputs=[])"
      ]
     },
     "execution_count": 16,
     "metadata": {},
     "output_type": "execute_result"
    }
   ],
   "source": [
    "skill_to_l3_model_training.start(\n",
    "    inputs=[input_code, train_ds_version, test_ds_version],\n",
    "    run_properties={\n",
    "        \"alpha\": 0.01, \n",
    "        \"num_layers\": 2,\n",
    "    })"
   ]
  },
  {
   "cell_type": "code",
   "execution_count": 17,
   "id": "1cc45b61",
   "metadata": {},
   "outputs": [
    {
     "name": "stdout",
     "output_type": "stream",
     "text": [
      "start to run the algorithm with parameter: {'alpha': 0.01, 'num_layers': 2}\n",
      "running time: 2.115912914276123\n"
     ]
    }
   ],
   "source": [
    "print('start to run the algorithm with parameter: {}'.format(LP_model.get_params()))\n",
    "\n",
    "running_time = LP_model.fit(\n",
    "    training_idx.tolist(),\n",
    "    )\n",
    "\n",
    "print('running time: {}'.format(running_time))"
   ]
  },
  {
   "cell_type": "code",
   "execution_count": 18,
   "id": "9be41d12",
   "metadata": {},
   "outputs": [
    {
     "name": "stdout",
     "output_type": "stream",
     "text": [
      "auc over the test set: 0.9140093883505644\n"
     ]
    }
   ],
   "source": [
    "## test the model with the score method\n",
    "\n",
    "auc_mirco = LP_model.score(\n",
    "    test_idx.tolist(),\n",
    "    )\n",
    "\n",
    "print('auc over the test set: {}'.format(auc_mirco))"
   ]
  },
  {
   "cell_type": "code",
   "execution_count": 19,
   "id": "4da8a6b9",
   "metadata": {},
   "outputs": [
    {
     "name": "stderr",
     "output_type": "stream",
     "text": [
      "INFO:Project:Model with id: 4816 successfully retrieved.\n",
      "INFO:ModelVersionApi:Metrics with names: ['auc_mirco'] successfully added to ModelVersion Version 4.\n",
      "INFO:Model:ModelVersion with id: 13182 successfully created in Model skill_to_l3.\n"
     ]
    }
   ],
   "source": [
    "metrics = {\"auc_mirco\": auc_mirco}\n",
    "model_version = skill_to_l3_model_training.add_model_version(\n",
    "    model=\"skill_to_l3\", \n",
    "    algorithm=\"label_propagation\", \n",
    "    metrics=metrics)\n",
    "\n",
    "# We complete the current experiment's run \n",
    "## The created model version will be automatically attached as output of the run\n",
    "skill_to_l3_model_training.complete()"
   ]
  },
  {
   "cell_type": "markdown",
   "id": "556dfe50",
   "metadata": {},
   "source": [
    "# prepare the output "
   ]
  },
  {
   "cell_type": "code",
   "execution_count": 20,
   "id": "0d771794",
   "metadata": {},
   "outputs": [
    {
     "name": "stderr",
     "output_type": "stream",
     "text": [
      "INFO:Client:Successfully authenticated. You'll be working on Project: Adaptive Skill Filtering part of Workspace: Sandbox - all\n",
      "WARNING:Vectice:compatibility warning : Please upgrade to the Vectice SDK version 22.4.2 which is more compatible with your Vectice application.\n"
     ]
    },
    {
     "name": "stdout",
     "output_type": "stream",
     "text": [
      "compatibility warning : Please upgrade to the Vectice SDK version 22.4.2 which is more compatible with your Vectice application.\n"
     ]
    },
    {
     "name": "stderr",
     "output_type": "stream",
     "text": [
      "INFO:Project:Job with id: 11171 successfully retrieved.\n"
     ]
    }
   ],
   "source": [
    "skill_to_l3_model_inference = Experiment(\n",
    "    job=\"skill_to_l3_model_inference\", \n",
    "    project=project_id, \n",
    "    job_type=JobType.INFERENCE, \n",
    "    auto_code=True)"
   ]
  },
  {
   "cell_type": "code",
   "execution_count": 21,
   "id": "2b9e75da",
   "metadata": {},
   "outputs": [],
   "source": [
    "predictions = LP_model.predictions.to_sparse()"
   ]
  },
  {
   "cell_type": "code",
   "execution_count": 22,
   "id": "f21db162",
   "metadata": {},
   "outputs": [
    {
     "data": {
      "text/plain": [
       "torch.Size([14712, 241])"
      ]
     },
     "execution_count": 22,
     "metadata": {},
     "output_type": "execute_result"
    }
   ],
   "source": [
    "predictions.size()"
   ]
  },
  {
   "cell_type": "code",
   "execution_count": 23,
   "id": "f7624143",
   "metadata": {},
   "outputs": [],
   "source": [
    "indices = predictions.indices()"
   ]
  },
  {
   "cell_type": "code",
   "execution_count": 24,
   "id": "c68af4fc",
   "metadata": {},
   "outputs": [],
   "source": [
    "skill_id = indices[0].cpu().numpy()\n",
    "l3_id = indices[1].cpu().numpy()\n",
    "score = predictions.values().cpu().numpy()"
   ]
  },
  {
   "cell_type": "code",
   "execution_count": 25,
   "id": "ca901dba",
   "metadata": {},
   "outputs": [],
   "source": [
    "np.save(\n",
    "  f'{result_folder}result_skill_id.npy',\n",
    "  skill_id,  \n",
    "  )"
   ]
  },
  {
   "cell_type": "code",
   "execution_count": 26,
   "id": "e73466b9",
   "metadata": {},
   "outputs": [],
   "source": [
    "np.save(\n",
    "  f'{result_folder}result_l3_id.npy',\n",
    "  l3_id,  \n",
    "  )"
   ]
  },
  {
   "cell_type": "code",
   "execution_count": 27,
   "id": "b0153a55",
   "metadata": {},
   "outputs": [],
   "source": [
    "np.save(\n",
    "  f'{result_folder}result_score.npy',\n",
    "  score,  \n",
    "  )"
   ]
  },
  {
   "cell_type": "code",
   "execution_count": 28,
   "id": "a657237d",
   "metadata": {},
   "outputs": [
    {
     "name": "stderr",
     "output_type": "stream",
     "text": [
      "INFO:Project:Model with id: 4816 successfully retrieved.\n",
      "INFO:Model:ModelVersion with id: 13183 successfully created in Model skill_to_l3.\n"
     ]
    }
   ],
   "source": [
    "model_version = skill_to_l3_model_inference.add_model_version(\n",
    "    model=\"skill_to_l3\", \n",
    "    algorithm=\"label_propagation\", \n",
    "    )\n",
    "\n",
    "# We complete the current experiment's run \n",
    "## The created model version will be automatically attached as output of the run\n",
    "skill_to_l3_model_inference.complete()"
   ]
  },
  {
   "cell_type": "markdown",
   "id": "b363a5a6",
   "metadata": {},
   "source": [
    "# end"
   ]
  }
 ],
 "metadata": {
  "kernelspec": {
   "display_name": "Python 3 (ipykernel)",
   "language": "python",
   "name": "python3"
  },
  "language_info": {
   "codemirror_mode": {
    "name": "ipython",
    "version": 3
   },
   "file_extension": ".py",
   "mimetype": "text/x-python",
   "name": "python",
   "nbconvert_exporter": "python",
   "pygments_lexer": "ipython3",
   "version": "3.10.6"
  }
 },
 "nbformat": 4,
 "nbformat_minor": 5
}
